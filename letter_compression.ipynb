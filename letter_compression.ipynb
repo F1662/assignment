{
 "cells": [
  {
   "cell_type": "markdown",
   "id": "9c3bfe42",
   "metadata": {},
   "source": [
    "15. AAAABCCCCCDDDD katarı 4AB5C4D şeklinde sıkıştırılabilir.\n",
    "Sıkıştırılmış katar girildiğinde bunun sıkıştırılmamış\n",
    "orijinal şeklini yazdıran bir program yazınız.\n"
   ]
  },
  {
   "cell_type": "code",
   "execution_count": 62,
   "id": "023a770d",
   "metadata": {},
   "outputs": [
    {
     "name": "stdout",
     "output_type": "stream",
     "text": [
      "4AB5C4D\n"
     ]
    }
   ],
   "source": [
    "letters = \"AAAABCCCCCDDDD\"\n",
    "li = list(letters) +[\" \"]\n",
    "\n",
    "count = 1\n",
    "yen =[]\n",
    "for i in range(len(letters)+1):\n",
    "    if li[i] == \" \":\n",
    "        break\n",
    "    if li[i+1] == li[i]:\n",
    "        count += 1 \n",
    "    else:\n",
    "        yen.append(count)\n",
    "        yen.append(li[i])\n",
    "        \n",
    "        count = 1\n",
    "sonuc = ''\n",
    "for i in range(len(yen)):\n",
    "    if yen[i] != 1 :\n",
    "        sonuc += str(yen[i])\n",
    "print(sonuc)\n"
   ]
  }
 ],
 "metadata": {
  "kernelspec": {
   "display_name": "Python 3 (ipykernel)",
   "language": "python",
   "name": "python3"
  },
  "language_info": {
   "codemirror_mode": {
    "name": "ipython",
    "version": 3
   },
   "file_extension": ".py",
   "mimetype": "text/x-python",
   "name": "python",
   "nbconvert_exporter": "python",
   "pygments_lexer": "ipython3",
   "version": "3.10.2"
  }
 },
 "nbformat": 4,
 "nbformat_minor": 5
}
