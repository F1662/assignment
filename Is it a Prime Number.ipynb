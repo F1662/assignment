{
 "cells": [
  {
   "cell_type": "code",
   "execution_count": 2,
   "metadata": {},
   "outputs": [
    {
     "name": "stdout",
     "output_type": "stream",
     "text": [
      "11  is a Prime number.\n"
     ]
    }
   ],
   "source": [
    "\n",
    "n = int(input(\"Enter a positive int number to check if it is a Prime number.\"))\n",
    "counter = 0 \n",
    "for i in range(1, n+1):\n",
    "    if n % i == 0:\n",
    "        counter += 1\n",
    "\n",
    "if (n == 0) or (n == 1) or (counter >=3):\n",
    "    print(n, \" is not a prime number\")\n",
    "\n",
    "else:\n",
    "    print(n, \" is a prime number\")\n"
   ]
  }
 ],
 "metadata": {
  "interpreter": {
   "hash": "5d240ba0dc525c389faa33f5dcce5b4f32b6d6aa6d70d6d2dd929bd2b09ab69f"
  },
  "kernelspec": {
   "display_name": "Python 3.10.2 64-bit",
   "language": "python",
   "name": "python3"
  },
  "language_info": {
   "codemirror_mode": {
    "name": "ipython",
    "version": 3
   },
   "file_extension": ".py",
   "mimetype": "text/x-python",
   "name": "python",
   "nbconvert_exporter": "python",
   "pygments_lexer": "ipython3",
   "version": "3.10.2"
  },
  "orig_nbformat": 4
 },
 "nbformat": 4,
 "nbformat_minor": 2
}
