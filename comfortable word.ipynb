{
 "cells": [
  {
   "cell_type": "code",
   "execution_count": 7,
   "metadata": {},
   "outputs": [
    {
     "name": "stdout",
     "output_type": "stream",
     "text": [
      "'şldgkfs' is comfortable.\n"
     ]
    }
   ],
   "source": [
    "left = set(\"qwertasdfgzxcvb\")\n",
    "right = set(\"yuophjklnm\")\n",
    "\n",
    "word1 = input(\"write a word :\")\n",
    "word = set(word1)\n",
    "\n",
    "leftcheck = bool(word.intersection(left))\n",
    "rightcheck = bool(word.intersection(right))\n",
    "\n",
    "sonuc = leftcheck and rightcheck\n",
    "if sonuc:\n",
    "    print(f\"'{word1}' is comfortable.\")\n",
    "else: \n",
    "    print(f\"'{word1}' is not comfortable.\")\n",
    "    \n"
   ]
  },
  {
   "cell_type": "code",
   "execution_count": null,
   "metadata": {},
   "outputs": [],
   "source": []
  }
 ],
 "metadata": {
  "interpreter": {
   "hash": "38d51dd8e8d25c2b4859ddf5fde4d8615b38902fd48d30a19bf46ddb81d406a6"
  },
  "kernelspec": {
   "display_name": "Python 3.9.10 64-bit (windows store)",
   "language": "python",
   "name": "python3"
  },
  "language_info": {
   "codemirror_mode": {
    "name": "ipython",
    "version": 3
   },
   "file_extension": ".py",
   "mimetype": "text/x-python",
   "name": "python",
   "nbconvert_exporter": "python",
   "pygments_lexer": "ipython3",
   "version": "3.9.10"
  },
  "orig_nbformat": 4
 },
 "nbformat": 4,
 "nbformat_minor": 2
}
