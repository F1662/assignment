{
 "cells": [
  {
   "cell_type": "markdown",
   "metadata": {},
   "source": [
    "task :\n",
    "using While Loop and full try except Look. \n",
    "at This Time in addition to the previous program.\n",
    " "
   ]
  },
  {
   "cell_type": "code",
   "execution_count": null,
   "metadata": {},
   "outputs": [],
   "source": [
    "chanches = 3\n",
    "while chanches>0:\n",
    "    fruits = [\"banana\", \"mango\", \"pear\", \"apple\", \"kiwi\", \"grape\"]\n",
    "    \n",
    "    \n",
    "    try :\n",
    "        selecion = int(input(\"Selecion\"))\n",
    "        print(\"your favorite fruit is {}\".format(fruits[selecion]))\n",
    "        \n",
    "    except ValueError:\n",
    "        print(\"Please enter an integer value\")\n",
    "        chanches -=1\n",
    "        print(\"Your chanches is {}\".format(chanches))\n",
    "    except IndexError:\n",
    "        print(\"Please enter 0 -5 integer \")\n",
    "        chanches -=1\n",
    "        print(\"Your chanches is {}\".format(chanches))\n",
    "    else:\n",
    "        print(\"Congrats! You've true selection\")\n",
    "        break\n",
    "    finally:\n",
    "        print(\"Our fruits are always fresh!\")"
   ]
  }
 ],
 "metadata": {
  "language_info": {
   "name": "python"
  },
  "orig_nbformat": 4
 },
 "nbformat": 4,
 "nbformat_minor": 2
}
