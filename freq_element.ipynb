{
 "cells": [
  {
   "cell_type": "code",
   "execution_count": 1,
   "metadata": {
    "colab": {
     "base_uri": "https://localhost:8080/"
    },
    "executionInfo": {
     "elapsed": 4,
     "status": "ok",
     "timestamp": 1644254884502,
     "user": {
      "displayName": "Gece Gündüz",
      "photoUrl": "https://lh3.googleusercontent.com/a-/AOh14Gg-A58MMChCiTt48viHtsLofijW2t4LVqIfZg1W=s64",
      "userId": "00824697191910526533"
     },
     "user_tz": -180
    },
    "id": "z7BK-Pk8lJwH",
    "outputId": "257a1d42-22df-459c-f9bb-9b19c298f697"
   },
   "outputs": [
    {
     "name": "stdout",
     "output_type": "stream",
     "text": [
      "numbers listesinde 3 sayısı 4 adet vardır.\n"
     ]
    }
   ],
   "source": [
    "numbers = [1, 3, 7, 4, 3, 0, 3, 6, 3] \n",
    "\n",
    "my_list = list()\n",
    "\n",
    "for i in numbers:\n",
    "\n",
    "  my_list.append(numbers.count(i))\n",
    "\n",
    "my_list2 = list(my_list)\n",
    "\n",
    "my_list.sort()\n",
    "\n",
    "x = (len(my_list)-1)\n",
    "\n",
    "z = my_list[x]\n",
    "\n",
    "y = my_list2.index(z)\n",
    "\n",
    "print(\"numbers listesinde {} sayısı {} adet vardır.\".format(numbers[y], my_list2[y]))"
   ]
  }
 ],
 "metadata": {
  "colab": {
   "collapsed_sections": [],
   "name": "assignment_freq_element.ipynb",
   "provenance": []
  },
  "kernelspec": {
   "display_name": "Python 3 (ipykernel)",
   "language": "python",
   "name": "python3"
  },
  "language_info": {
   "codemirror_mode": {
    "name": "ipython",
    "version": 3
   },
   "file_extension": ".py",
   "mimetype": "text/x-python",
   "name": "python",
   "nbconvert_exporter": "python",
   "pygments_lexer": "ipython3",
   "version": "3.10.2"
  }
 },
 "nbformat": 4,
 "nbformat_minor": 4
}
