{
 "cells": [
  {
   "cell_type": "code",
   "execution_count": 2,
   "metadata": {},
   "outputs": [
    {
     "name": "stdout",
     "output_type": "stream",
     "text": [
      "63105425988599693916 is an Armstrong number\n"
     ]
    }
   ],
   "source": [
    "number = input(\"enter a number : \")\n",
    "if number.isdigit():\n",
    "    leng = len(number)\n",
    "    listnum = list(number)\n",
    "    sum = 0\n",
    "    for i in range(leng):\n",
    "          sum = sum + int(listnum[i])**leng\n",
    "\n",
    "    if sum == int(number):\n",
    "        print(f\"{number} is an Armstrong number\")\n",
    "    else: \n",
    "      print(f\"{number} is not an Armstrong number\")\n",
    "    \n",
    "else:\n",
    "  print(\"It is an invalid entry. Don't use non-numeric, float, or negative values!\")\n"
   ]
  }
 ],
 "metadata": {
  "interpreter": {
   "hash": "38d51dd8e8d25c2b4859ddf5fde4d8615b38902fd48d30a19bf46ddb81d406a6"
  },
  "kernelspec": {
   "display_name": "Python 3.9.10 64-bit (windows store)",
   "language": "python",
   "name": "python3"
  },
  "language_info": {
   "codemirror_mode": {
    "name": "ipython",
    "version": 3
   },
   "file_extension": ".py",
   "mimetype": "text/x-python",
   "name": "python",
   "nbconvert_exporter": "python",
   "pygments_lexer": "ipython3",
   "version": "3.10.2"
  },
  "orig_nbformat": 4
 },
 "nbformat": 4,
 "nbformat_minor": 2
}
