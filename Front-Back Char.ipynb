{
 "cells": [
  {
   "cell_type": "markdown",
   "metadata": {},
   "source": [
    "Given a string, return a new string where the first and last chars have been exchanged.\n",
    "For example:\n",
    "\n",
    "Test\tResult\n",
    "print(front_back('clarusway'))\n",
    "ylaruswac\n",
    "print(front_back('a'))\n",
    "a\n",
    "print(front_back('ab'))\n",
    "ba"
   ]
  },
  {
   "cell_type": "code",
   "execution_count": 7,
   "metadata": {},
   "outputs": [
    {
     "name": "stdout",
     "output_type": "stream",
     "text": [
      "nelmas\n"
     ]
    }
   ],
   "source": [
    "def front_back(word):\n",
    "    a = list(word)\n",
    "    b = a[0]\n",
    "    c = a[-1]\n",
    "    a[0] = c\n",
    "    a[-1] = b\n",
    "    d =\"\"\n",
    "    for i in a:\n",
    "        d += i\n",
    "    return d\n",
    "\n",
    "\n",
    "print(front_back('selman'))"
   ]
  }
 ],
 "metadata": {
  "interpreter": {
   "hash": "5d240ba0dc525c389faa33f5dcce5b4f32b6d6aa6d70d6d2dd929bd2b09ab69f"
  },
  "kernelspec": {
   "display_name": "Python 3.10.2 64-bit",
   "language": "python",
   "name": "python3"
  },
  "language_info": {
   "codemirror_mode": {
    "name": "ipython",
    "version": 3
   },
   "file_extension": ".py",
   "mimetype": "text/x-python",
   "name": "python",
   "nbconvert_exporter": "python",
   "pygments_lexer": "ipython3",
   "version": "3.10.2"
  },
  "orig_nbformat": 4
 },
 "nbformat": 4,
 "nbformat_minor": 2
}
